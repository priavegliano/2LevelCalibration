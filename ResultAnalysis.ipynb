{
 "cells": [
  {
   "cell_type": "code",
   "execution_count": 4,
   "metadata": {},
   "outputs": [],
   "source": [
    "import pandas as pd\n",
    "import numpy as np\n",
    "import similaritymeasures\n",
    "from io import StringIO\n",
    "from frechetdist import frdist"
   ]
  },
  {
   "cell_type": "code",
   "execution_count": 5,
   "metadata": {},
   "outputs": [],
   "source": [
    "import warnings\n",
    "warnings.filterwarnings('ignore')"
   ]
  },
  {
   "cell_type": "code",
   "execution_count": 6,
   "metadata": {},
   "outputs": [],
   "source": [
    "field_names=['RealData','MAS', 'Raw','RMSE-MAS', 'RMSE-Raw']\n",
    "\n",
    "def read_data(location):\n",
    "    with open(location) as f:\n",
    "        data = ''\n",
    "        for line in f.readlines():\n",
    "            if line.count(';') == 2:\n",
    "                line = line + ';'\n",
    "            data += line\n",
    "        data = data.replace('\\n', '').replace(';', ';\\n')\n",
    "\n",
    "    # skip header, go to first data block\n",
    "    data = data[data.find('['):]\n",
    "    curated_data = ''\n",
    "    field_nr = 0\n",
    "    for line in data.split('\\n'):\n",
    "        if len(line) == 0:\n",
    "            continue\n",
    "\n",
    "        field_nr += 1\n",
    "        if field_nr == len(field_names):\n",
    "            curated_data += line.replace(';', '\\n')\n",
    "            field_nr = 0\n",
    "        else:\n",
    "            curated_data += line\n",
    "    \n",
    "    df=pd.read_csv(StringIO(curated_data), sep=';', header=0, names=field_names)\n",
    "    return df"
   ]
  },
  {
   "cell_type": "code",
   "execution_count": 111,
   "metadata": {},
   "outputs": [],
   "source": [
    "data = read_data('mc_surrogate')"
   ]
  },
  {
   "cell_type": "code",
   "execution_count": 109,
   "metadata": {},
   "outputs": [
    {
     "data": {
      "text/html": [
       "<div>\n",
       "<style scoped>\n",
       "    .dataframe tbody tr th:only-of-type {\n",
       "        vertical-align: middle;\n",
       "    }\n",
       "\n",
       "    .dataframe tbody tr th {\n",
       "        vertical-align: top;\n",
       "    }\n",
       "\n",
       "    .dataframe thead th {\n",
       "        text-align: right;\n",
       "    }\n",
       "</style>\n",
       "<table border=\"1\" class=\"dataframe\">\n",
       "  <thead>\n",
       "    <tr style=\"text-align: right;\">\n",
       "      <th></th>\n",
       "      <th>RealData</th>\n",
       "      <th>MAS</th>\n",
       "      <th>Raw</th>\n",
       "      <th>RMSE-MAS</th>\n",
       "      <th>RMSE-Raw</th>\n",
       "    </tr>\n",
       "  </thead>\n",
       "  <tbody>\n",
       "    <tr>\n",
       "      <th>0</th>\n",
       "      <td>[61.59, 62.08, 62.93, 64.03, 65.09, 66.24, 67....</td>\n",
       "      <td>[ 67.43530954  69.0788475   70.58806974  71.8...</td>\n",
       "      <td>[ 88.01138937  88.96768648  89.93880528  90.52...</td>\n",
       "      <td>30.087345</td>\n",
       "      <td>16.254265</td>\n",
       "    </tr>\n",
       "    <tr>\n",
       "      <th>1</th>\n",
       "      <td>[61.59, 62.08, 62.93, 64.03, 65.09, 66.24, 67....</td>\n",
       "      <td>[ 88.28997728  89.4197747   90.46949917  91.3...</td>\n",
       "      <td>[ 92.48595719  93.35877978  94.1603509   94.76...</td>\n",
       "      <td>14.176917</td>\n",
       "      <td>19.234728</td>\n",
       "    </tr>\n",
       "    <tr>\n",
       "      <th>2</th>\n",
       "      <td>[61.59, 62.08, 62.93, 64.03, 65.09, 66.24, 67....</td>\n",
       "      <td>[ 81.66762262  82.5870911   83.42292078  84.1...</td>\n",
       "      <td>[127.90154866 128.61439844 129.33323332 129.70...</td>\n",
       "      <td>19.050827</td>\n",
       "      <td>32.984552</td>\n",
       "    </tr>\n",
       "    <tr>\n",
       "      <th>3</th>\n",
       "      <td>[61.59, 62.08, 62.93, 64.03, 65.09, 66.24, 67....</td>\n",
       "      <td>[ 94.30858334  95.25315913  96.21211492  96.7...</td>\n",
       "      <td>[117.09552502 118.00431819 118.9230905  119.48...</td>\n",
       "      <td>19.710247</td>\n",
       "      <td>32.496989</td>\n",
       "    </tr>\n",
       "    <tr>\n",
       "      <th>4</th>\n",
       "      <td>[61.59, 62.08, 62.93, 64.03, 65.09, 66.24, 67....</td>\n",
       "      <td>[ 67.42900582  68.7169605   69.95169473  70.8...</td>\n",
       "      <td>[ 79.79596925  80.79071831  81.72550241  82.49...</td>\n",
       "      <td>10.345084</td>\n",
       "      <td>11.746823</td>\n",
       "    </tr>\n",
       "  </tbody>\n",
       "</table>\n",
       "</div>"
      ],
      "text/plain": [
       "                                            RealData  \\\n",
       "0  [61.59, 62.08, 62.93, 64.03, 65.09, 66.24, 67....   \n",
       "1  [61.59, 62.08, 62.93, 64.03, 65.09, 66.24, 67....   \n",
       "2  [61.59, 62.08, 62.93, 64.03, 65.09, 66.24, 67....   \n",
       "3  [61.59, 62.08, 62.93, 64.03, 65.09, 66.24, 67....   \n",
       "4  [61.59, 62.08, 62.93, 64.03, 65.09, 66.24, 67....   \n",
       "\n",
       "                                                 MAS  \\\n",
       "0   [ 67.43530954  69.0788475   70.58806974  71.8...   \n",
       "1   [ 88.28997728  89.4197747   90.46949917  91.3...   \n",
       "2   [ 81.66762262  82.5870911   83.42292078  84.1...   \n",
       "3   [ 94.30858334  95.25315913  96.21211492  96.7...   \n",
       "4   [ 67.42900582  68.7169605   69.95169473  70.8...   \n",
       "\n",
       "                                                 Raw   RMSE-MAS   RMSE-Raw  \n",
       "0  [ 88.01138937  88.96768648  89.93880528  90.52...  30.087345  16.254265  \n",
       "1  [ 92.48595719  93.35877978  94.1603509   94.76...  14.176917  19.234728  \n",
       "2  [127.90154866 128.61439844 129.33323332 129.70...  19.050827  32.984552  \n",
       "3  [117.09552502 118.00431819 118.9230905  119.48...  19.710247  32.496989  \n",
       "4  [ 79.79596925  80.79071831  81.72550241  82.49...  10.345084  11.746823  "
      ]
     },
     "execution_count": 109,
     "metadata": {},
     "output_type": "execute_result"
    }
   ],
   "source": [
    "data.head()"
   ]
  },
  {
   "cell_type": "code",
   "execution_count": 112,
   "metadata": {},
   "outputs": [],
   "source": [
    "# Convert to float arrays\n",
    "field_name = 'RealData'\n",
    "for i, row in enumerate(data[field_name]):\n",
    "    row = row.replace('[', '').replace(']', '')\n",
    "    data[field_name][i] = [float(x) for x in row.split(',')]"
   ]
  },
  {
   "cell_type": "code",
   "execution_count": 113,
   "metadata": {},
   "outputs": [],
   "source": [
    "field_name = 'MAS'\n",
    "for i, row in enumerate(data[field_name]):\n",
    "    row = row.replace('[', '').replace(']', '')\n",
    "    data[field_name][i] = [float(x) for x in row.split()]"
   ]
  },
  {
   "cell_type": "code",
   "execution_count": 115,
   "metadata": {},
   "outputs": [],
   "source": [
    "field_name = 'Raw'\n",
    "for i, row in enumerate(data[field_name]):\n",
    "    row = row.replace('[', '').replace(']', '')\n",
    "    data[field_name][i] = [float(x) for x in row.split()]"
   ]
  },
  {
   "cell_type": "code",
   "execution_count": 116,
   "metadata": {},
   "outputs": [],
   "source": [
    "field_name = 'RMSE-MAS'\n",
    "for i, row in enumerate(data[field_name]):\n",
    "    data[field_name][i] = float(row)"
   ]
  },
  {
   "cell_type": "code",
   "execution_count": 117,
   "metadata": {},
   "outputs": [],
   "source": [
    "field_name = 'RMSE-Raw'\n",
    "for i, row in enumerate(data[field_name]):\n",
    "    data[field_name][i] = float(row)"
   ]
  },
  {
   "cell_type": "code",
   "execution_count": 122,
   "metadata": {},
   "outputs": [],
   "source": [
    "mas = data['MAS']\n",
    "raw = data['Raw']\n",
    "real = data['RealData']"
   ]
  },
  {
   "cell_type": "code",
   "execution_count": 124,
   "metadata": {},
   "outputs": [
    {
     "name": "stdout",
     "output_type": "stream",
     "text": [
      "38.559034268000005 25.86694442638462\n"
     ]
    }
   ],
   "source": [
    "frechet_raw = []\n",
    "frechet_mas = []\n",
    "for i in range(len(real)):\n",
    "    df_mas = similaritymeasures.frechet_dist(real[i], mas[i])\n",
    "    frechet_mas.append(df_mas)\n",
    "    df_raw = similaritymeasures.frechet_dist(real[i], raw[i])\n",
    "    frechet_raw.append(df_raw)\n",
    "    \n",
    "print(np.mean(frechet_raw), np.mean(frechet_mas))"
   ]
  },
  {
   "cell_type": "code",
   "execution_count": 125,
   "metadata": {},
   "outputs": [
    {
     "name": "stdout",
     "output_type": "stream",
     "text": [
      "25.262197157853574 16.195601658878626\n"
     ]
    }
   ],
   "source": [
    "print(np.std(frechet_raw), np.std(frechet_mas))"
   ]
  },
  {
   "cell_type": "code",
   "execution_count": 127,
   "metadata": {},
   "outputs": [
    {
     "name": "stdout",
     "output_type": "stream",
     "text": [
      "28.85547048223189 20.353164821836813\n",
      "16.241629801588182 9.360090711700261\n"
     ]
    }
   ],
   "source": [
    "mas_rmse = data['RMSE-MAS']\n",
    "raw_rmse = data['RMSE-Raw']\n",
    "print(np.mean(raw_rmse), np.mean(mas_rmse))\n",
    "print(np.std(raw_rmse), np.std(mas_rmse))"
   ]
  },
  {
   "cell_type": "code",
   "execution_count": 7,
   "metadata": {},
   "outputs": [],
   "source": [
    "data_cma = read_data('cma_surrogate')"
   ]
  },
  {
   "cell_type": "code",
   "execution_count": 8,
   "metadata": {},
   "outputs": [
    {
     "data": {
      "text/html": [
       "<div>\n",
       "<style scoped>\n",
       "    .dataframe tbody tr th:only-of-type {\n",
       "        vertical-align: middle;\n",
       "    }\n",
       "\n",
       "    .dataframe tbody tr th {\n",
       "        vertical-align: top;\n",
       "    }\n",
       "\n",
       "    .dataframe thead th {\n",
       "        text-align: right;\n",
       "    }\n",
       "</style>\n",
       "<table border=\"1\" class=\"dataframe\">\n",
       "  <thead>\n",
       "    <tr style=\"text-align: right;\">\n",
       "      <th></th>\n",
       "      <th>RealData</th>\n",
       "      <th>MAS</th>\n",
       "      <th>Raw</th>\n",
       "      <th>RMSE-MAS</th>\n",
       "      <th>RMSE-Raw</th>\n",
       "    </tr>\n",
       "  </thead>\n",
       "  <tbody>\n",
       "    <tr>\n",
       "      <th>0</th>\n",
       "      <td>[61.59, 62.08, 62.93, 64.03, 65.09, 66.24, 67....</td>\n",
       "      <td>[ 80.42447821  81.57838506  82.64092455  83.5...</td>\n",
       "      <td>[ 70.02322031  70.47100842  70.94148842  71.70...</td>\n",
       "      <td>9.680872</td>\n",
       "      <td>7.947330</td>\n",
       "    </tr>\n",
       "    <tr>\n",
       "      <th>1</th>\n",
       "      <td>[61.59, 62.08, 62.93, 64.03, 65.09, 66.24, 67....</td>\n",
       "      <td>[ 80.49481368  81.58067959  82.62201808  83.5...</td>\n",
       "      <td>[ 86.47309629  86.97468151  87.47651039  88.44...</td>\n",
       "      <td>9.804457</td>\n",
       "      <td>18.585057</td>\n",
       "    </tr>\n",
       "    <tr>\n",
       "      <th>2</th>\n",
       "      <td>[61.59, 62.08, 62.93, 64.03, 65.09, 66.24, 67....</td>\n",
       "      <td>[ 80.5959425   81.70679455  82.72095036  83.5...</td>\n",
       "      <td>[ 73.22946392  73.61831678  74.03838602  74.67...</td>\n",
       "      <td>9.818624</td>\n",
       "      <td>10.480254</td>\n",
       "    </tr>\n",
       "    <tr>\n",
       "      <th>3</th>\n",
       "      <td>[61.59, 62.08, 62.93, 64.03, 65.09, 66.24, 67....</td>\n",
       "      <td>[ 80.61144333  81.76032432  82.81870788  83.6...</td>\n",
       "      <td>[ 68.69842596  68.82984406  69.10582313  69.46...</td>\n",
       "      <td>9.734563</td>\n",
       "      <td>6.493252</td>\n",
       "    </tr>\n",
       "    <tr>\n",
       "      <th>4</th>\n",
       "      <td>[61.59, 62.08, 62.93, 64.03, 65.09, 66.24, 67....</td>\n",
       "      <td>[ 80.4453563   81.56604177  82.61743645  83.4...</td>\n",
       "      <td>[ 68.76355447  69.15252579  69.57043191  70.24...</td>\n",
       "      <td>9.628156</td>\n",
       "      <td>9.000566</td>\n",
       "    </tr>\n",
       "  </tbody>\n",
       "</table>\n",
       "</div>"
      ],
      "text/plain": [
       "                                            RealData  \\\n",
       "0  [61.59, 62.08, 62.93, 64.03, 65.09, 66.24, 67....   \n",
       "1  [61.59, 62.08, 62.93, 64.03, 65.09, 66.24, 67....   \n",
       "2  [61.59, 62.08, 62.93, 64.03, 65.09, 66.24, 67....   \n",
       "3  [61.59, 62.08, 62.93, 64.03, 65.09, 66.24, 67....   \n",
       "4  [61.59, 62.08, 62.93, 64.03, 65.09, 66.24, 67....   \n",
       "\n",
       "                                                 MAS  \\\n",
       "0   [ 80.42447821  81.57838506  82.64092455  83.5...   \n",
       "1   [ 80.49481368  81.58067959  82.62201808  83.5...   \n",
       "2   [ 80.5959425   81.70679455  82.72095036  83.5...   \n",
       "3   [ 80.61144333  81.76032432  82.81870788  83.6...   \n",
       "4   [ 80.4453563   81.56604177  82.61743645  83.4...   \n",
       "\n",
       "                                                 Raw  RMSE-MAS   RMSE-Raw  \n",
       "0  [ 70.02322031  70.47100842  70.94148842  71.70...  9.680872   7.947330  \n",
       "1  [ 86.47309629  86.97468151  87.47651039  88.44...  9.804457  18.585057  \n",
       "2  [ 73.22946392  73.61831678  74.03838602  74.67...  9.818624  10.480254  \n",
       "3  [ 68.69842596  68.82984406  69.10582313  69.46...  9.734563   6.493252  \n",
       "4  [ 68.76355447  69.15252579  69.57043191  70.24...  9.628156   9.000566  "
      ]
     },
     "execution_count": 8,
     "metadata": {},
     "output_type": "execute_result"
    }
   ],
   "source": [
    "data_cma.head()"
   ]
  },
  {
   "cell_type": "code",
   "execution_count": 9,
   "metadata": {},
   "outputs": [
    {
     "name": "stdout",
     "output_type": "stream",
     "text": [
      "164\n"
     ]
    }
   ],
   "source": [
    "print(len(data_cma))"
   ]
  },
  {
   "cell_type": "code",
   "execution_count": 11,
   "metadata": {},
   "outputs": [
    {
     "name": "stdout",
     "output_type": "stream",
     "text": [
      "130\n"
     ]
    }
   ],
   "source": [
    "data_cma = data_cma[:-34]\n",
    "print(len(data_cma))"
   ]
  },
  {
   "cell_type": "code",
   "execution_count": 13,
   "metadata": {},
   "outputs": [],
   "source": [
    "# Convert to float arrays\n",
    "field_name = 'RealData'\n",
    "for i, row in enumerate(data_cma[field_name]):\n",
    "    row = row.replace('[', '').replace(']', '')\n",
    "    data_cma[field_name][i] = [float(x) for x in row.split(',')]"
   ]
  },
  {
   "cell_type": "code",
   "execution_count": 14,
   "metadata": {},
   "outputs": [],
   "source": [
    "field_name = 'MAS'\n",
    "for i, row in enumerate(data_cma[field_name]):\n",
    "    row = row.replace('[', '').replace(']', '')\n",
    "    data_cma[field_name][i] = [float(x) for x in row.split()]"
   ]
  },
  {
   "cell_type": "code",
   "execution_count": 15,
   "metadata": {},
   "outputs": [],
   "source": [
    "field_name = 'Raw'\n",
    "for i, row in enumerate(data_cma[field_name]):\n",
    "    row = row.replace('[', '').replace(']', '')\n",
    "    data_cma[field_name][i] = [float(x) for x in row.split()]"
   ]
  },
  {
   "cell_type": "code",
   "execution_count": 16,
   "metadata": {},
   "outputs": [],
   "source": [
    "field_name = 'RMSE-MAS'\n",
    "for i, row in enumerate(data_cma[field_name]):\n",
    "    data_cma[field_name][i] = float(row)"
   ]
  },
  {
   "cell_type": "code",
   "execution_count": 17,
   "metadata": {},
   "outputs": [],
   "source": [
    "field_name = 'RMSE-Raw'\n",
    "for i, row in enumerate(data_cma[field_name]):\n",
    "    data_cma[field_name][i] = float(row)"
   ]
  },
  {
   "cell_type": "code",
   "execution_count": 18,
   "metadata": {},
   "outputs": [],
   "source": [
    "mas2 = data_cma['MAS']\n",
    "raw2 = data_cma['Raw']\n",
    "real2 = data_cma['RealData']"
   ]
  },
  {
   "cell_type": "code",
   "execution_count": 20,
   "metadata": {},
   "outputs": [
    {
     "name": "stdout",
     "output_type": "stream",
     "text": [
      "35.57373479046155 19.00974428907692\n"
     ]
    }
   ],
   "source": [
    "frechet_raw = []\n",
    "frechet_mas = []\n",
    "for i in range(len(real2)):\n",
    "    df_mas = similaritymeasures.frechet_dist(real2[i], mas2[i])\n",
    "    frechet_mas.append(df_mas)\n",
    "    df_raw = similaritymeasures.frechet_dist(real2[i], raw2[i])\n",
    "    frechet_raw.append(df_raw)\n",
    "    \n",
    "print(np.mean(frechet_raw), np.mean(frechet_mas))"
   ]
  },
  {
   "cell_type": "code",
   "execution_count": 21,
   "metadata": {},
   "outputs": [
    {
     "name": "stdout",
     "output_type": "stream",
     "text": [
      "16.807009384992714 10.074636724182879\n",
      "9.76502385616441 1.1279065980188026\n"
     ]
    }
   ],
   "source": [
    "mas_rmse2 = data_cma['RMSE-MAS']\n",
    "raw_rmse2 = data_cma['RMSE-Raw']\n",
    "print(np.mean(raw_rmse2), np.mean(mas_rmse2))\n",
    "print(np.std(raw_rmse2), np.std(mas_rmse2))"
   ]
  },
  {
   "cell_type": "code",
   "execution_count": 22,
   "metadata": {},
   "outputs": [
    {
     "name": "stdout",
     "output_type": "stream",
     "text": [
      "18.23947756941678 1.4967337880417257\n"
     ]
    }
   ],
   "source": [
    "print(np.std(frechet_raw), np.std(frechet_mas))"
   ]
  },
  {
   "cell_type": "code",
   "execution_count": null,
   "metadata": {},
   "outputs": [],
   "source": []
  }
 ],
 "metadata": {
  "kernelspec": {
   "display_name": "Python 3",
   "language": "python",
   "name": "python3"
  },
  "language_info": {
   "codemirror_mode": {
    "name": "ipython",
    "version": 3
   },
   "file_extension": ".py",
   "mimetype": "text/x-python",
   "name": "python",
   "nbconvert_exporter": "python",
   "pygments_lexer": "ipython3",
   "version": "3.8.5"
  }
 },
 "nbformat": 4,
 "nbformat_minor": 4
}
